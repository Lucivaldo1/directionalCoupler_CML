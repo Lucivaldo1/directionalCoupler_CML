{
 "cells": [
  {
   "cell_type": "code",
   "id": "initial_id",
   "metadata": {
    "collapsed": true,
    "ExecuteTime": {
     "end_time": "2025-06-06T19:16:26.583975Z",
     "start_time": "2025-06-06T19:16:26.579492Z"
    }
   },
   "source": [
    "import sys, os\n",
    "import numpy as np\n",
    "import matplotlib.pyplot as plt\n",
    "import warnings\n",
    "import tools\n",
    "from scipy.constants import c, nu2lambda"
   ],
   "outputs": [],
   "execution_count": 6
  },
  {
   "metadata": {
    "ExecuteTime": {
     "end_time": "2025-06-06T19:16:27.179125Z",
     "start_time": "2025-06-06T19:16:27.176203Z"
    }
   },
   "cell_type": "code",
   "source": [
    "from IPython.core.display import HTML\n",
    "from IPython.core.pylabtools import figsize\n",
    "from IPython.display import display, Math\n",
    "\n",
    "HTML(\"\"\"\n",
    "<style>\n",
    ".output_png{\n",
    "    display: table-cell;\n",
    "    text-align: center;\n",
    "    vertical-align: middle;\n",
    "}\n",
    "</style>\n",
    "\"\"\")"
   ],
   "id": "6a9db81650309e6b",
   "outputs": [
    {
     "data": {
      "text/plain": [
       "<IPython.core.display.HTML object>"
      ],
      "text/html": [
       "\n",
       "<style>\n",
       ".output_png{\n",
       "    display: table-cell;\n",
       "    text-align: center;\n",
       "    vertical-align: middle;\n",
       "}\n",
       "</style>\n"
      ]
     },
     "execution_count": 7,
     "metadata": {},
     "output_type": "execute_result"
    }
   ],
   "execution_count": 7
  },
  {
   "metadata": {
    "ExecuteTime": {
     "end_time": "2025-06-06T19:16:28.013090Z",
     "start_time": "2025-06-06T19:16:28.008142Z"
    }
   },
   "cell_type": "code",
   "source": "figsize(8,4)",
   "id": "16c0e2822f3ad3d1",
   "outputs": [],
   "execution_count": 8
  },
  {
   "metadata": {
    "ExecuteTime": {
     "end_time": "2025-06-06T19:16:28.394027Z",
     "start_time": "2025-06-06T19:16:28.392248Z"
    }
   },
   "cell_type": "code",
   "source": [
    "'''sys.path.append('C:\\\\Program Files\\\\Lumerical\\\\v221\\\\api\\\\python')\n",
    "sys.path.append('C:\\\\Program Files\\\\Lumerical\\\\v221\\\\api\\\\python\\\\lumapi.py')'''\n",
    "sys.path.append('C:\\\\Program Files\\\\Lumerical\\\\v242\\\\api\\\\python')\n",
    "sys.path.append('C:\\\\Program Files\\\\Lumerical\\\\v242\\\\api\\\\python\\\\lumapi.py')"
   ],
   "id": "82a49b341791ab82",
   "outputs": [],
   "execution_count": 9
  },
  {
   "metadata": {
    "ExecuteTime": {
     "end_time": "2025-06-06T19:16:31.071704Z",
     "start_time": "2025-06-06T19:16:29.330299Z"
    }
   },
   "cell_type": "code",
   "source": [
    "warnings.filterwarnings(\"ignore\", category=SyntaxWarning)\n",
    "import lumapi\n",
    "fdtdApi = lumapi.FDTD()"
   ],
   "id": "c298448faada7655",
   "outputs": [],
   "execution_count": 10
  },
  {
   "metadata": {
    "ExecuteTime": {
     "end_time": "2025-06-06T19:16:34.004881Z",
     "start_time": "2025-06-06T19:16:33.980913Z"
    }
   },
   "cell_type": "code",
   "source": [
    "fdtdApi.switchtolayout()\n",
    "fdtdApi.deleteall()"
   ],
   "id": "ecb9bb0f8ec502a5",
   "outputs": [],
   "execution_count": 11
  },
  {
   "metadata": {
    "ExecuteTime": {
     "end_time": "2025-06-06T19:16:34.223581Z",
     "start_time": "2025-06-06T19:16:34.221568Z"
    }
   },
   "cell_type": "code",
   "source": [
    "#units\n",
    "nm = 1e-9\n",
    "um = 1e-6"
   ],
   "id": "5a313d6e44a806a6",
   "outputs": [],
   "execution_count": 12
  },
  {
   "metadata": {
    "ExecuteTime": {
     "end_time": "2025-06-06T19:16:34.671696Z",
     "start_time": "2025-06-06T19:16:34.669403Z"
    }
   },
   "cell_type": "code",
   "source": [
    "# Parametros do acoplador direcional\n",
    "Lc = np.linspace(0,45*um,16)\n",
    "\n",
    "gap = 200*nm\n",
    "rad = 5*um\n",
    "# Parametros do guia de onda\n",
    "wg_width = 500*nm\n",
    "wg_height = 220*nm\n",
    "# Materiais do guia de onda\n",
    "material_Clad = 'SiO2 (Glass) - Palik'\n",
    "material_core = 'Si (Silicon) - Palik'"
   ],
   "id": "acb232d05f198523",
   "outputs": [],
   "execution_count": 13
  },
  {
   "metadata": {
    "ExecuteTime": {
     "end_time": "2025-06-06T19:16:35.294267Z",
     "start_time": "2025-06-06T19:16:35.292255Z"
    }
   },
   "cell_type": "code",
   "source": [
    "#Banda de operação \n",
    "wl_start = 1500*nm\n",
    "wl_stop = 1600*nm\n",
    "nbmFrqPnts = 21\n",
    "# Nome do arquivo\n",
    "filename = 'dc_FDTd_%d_nm_%03d_um'%(gap/nm,Lc[0]/um) "
   ],
   "id": "112433ced6861ac2",
   "outputs": [],
   "execution_count": 14
  },
  {
   "metadata": {
    "ExecuteTime": {
     "end_time": "2025-06-06T19:16:56.784792Z",
     "start_time": "2025-06-06T19:16:56.781801Z"
    }
   },
   "cell_type": "code",
   "source": [
    "## Configuração do FDTD\n",
    "# Tempo de simulação\n",
    "simulation_time = (np.pi*rad+Lc[0])*7/c+200e-15\n",
    "\n",
    "# Dimensões da porta\n",
    "portSize = 2*um\n",
    "portBcDist = 6*um\n",
    "# Dimensões do volume do solver\n",
    "x_FDTD = Lc[0]/2 + 2*rad\n",
    "y_FDTD = -rad-gap/2-wg_height\n",
    "x_span_FDTD = 1.1*Lc[0]+2*rad+portBcDist\n",
    "y_span_FDTD = 2*rad + gap + 2*wg_width+portSize\n",
    "z_span_FDTD = 5*um\n",
    "# Material\n",
    "backGroundMaterial = material_Clad\n",
    "# Precisão do mesh\n",
    "mesh_accuracy = 3\n",
    "# condições de fronteira\n",
    "z_min_bc = 'PML'"
   ],
   "id": "dbdf876eb22916d6",
   "outputs": [],
   "execution_count": 16
  },
  {
   "metadata": {
    "ExecuteTime": {
     "end_time": "2025-06-06T19:16:58.324659Z",
     "start_time": "2025-06-06T19:16:58.322354Z"
    }
   },
   "cell_type": "code",
   "source": [
    "# Parametrosa das portas\n",
    "y_port_off = 0.5*um\n",
    "x_port = np.array([Lc[0]+3*rad, rad, Lc[0]+3*rad, rad])\n",
    "y_port = np.array([-(2*rad+gap+wg_width+y_port_off),-(2*rad+gap+wg_width+y_port_off),0+y_port_off,0+y_port_off])\n",
    "x_span_port = 4*um\n",
    "z_span_port = 4*um\n",
    "mode_selection = 'fundamental TE mode'\n",
    "injection_axis = 'y-axis'"
   ],
   "id": "1c0a17970c02f28",
   "outputs": [],
   "execution_count": 17
  },
  {
   "metadata": {},
   "cell_type": "markdown",
   "source": "## Criando dispositivo",
   "id": "8479f6eb4fae7228"
  },
  {
   "metadata": {
    "ExecuteTime": {
     "end_time": "2025-06-07T00:51:05.490182Z",
     "start_time": "2025-06-07T00:51:05.485259Z"
    }
   },
   "cell_type": "code",
   "source": [
    "gap = 200 * nm\n",
    "gap2 = 300 * nm\n",
    "x_span_core = 500 * nm\n",
    "x_span_core_top = 600 * nm\n",
    "x_span_core_bottom = 400 * nm\n",
    "x_core = gap2 / 2\n",
    "y_core = 0.0 * um\n",
    "y_span_core = 0.220 * um\n",
    "z_core = 0.0 * um\n",
    "z_core_span = wg_height\n",
    "def buildDevice(lc):\n",
    "    for i in range(4):\n",
    "        fdtdApi.addobject('90_bend_wg')\n",
    "        fdtdApi.set('name',f'arco{i}')\n",
    "        fdtdApi.set('material',material_core)\n",
    "        fdtdApi.set('base width',wg_width)\n",
    "        fdtdApi.set('base height',wg_height)\n",
    "        fdtdApi.set('start angle', i*90)\n",
    "        fdtdApi.set('radius',rad)\n",
    "        fdtdApi.set('z',0)\n",
    "        \n",
    "    fdtdApi.setnamed('arco0', 'x', 2*rad + lc)\n",
    "    fdtdApi.setnamed('arco1', 'x', 2*rad)\n",
    "    fdtdApi.setnamed('arco2', 'x', 2*rad)\n",
    "    fdtdApi.setnamed('arco3', 'x', 2*rad + lc)\n",
    "    \n",
    "    fdtdApi.setnamed('arco0', 'y', -(gap+wg_width+2*rad))\n",
    "    fdtdApi.setnamed('arco1', 'y', -(gap+wg_width+2*rad))\n",
    "    fdtdApi.setnamed('arco2', 'y', 0)\n",
    "    fdtdApi.setnamed('arco3', 'y', 0)\n",
    "    \n",
    "    for i in range(4):\n",
    "        fdtdApi.addrect()\n",
    "        fdtdApi.set('name',f'port{i}')\n",
    "        fdtdApi.set('material',material_core)\n",
    "        fdtdApi.set('x span',wg_width)\n",
    "        fdtdApi.set('y span',portSize)\n",
    "        fdtdApi.set('z span',wg_height)\n",
    "        fdtdApi.set('z',0)\n",
    "        \n",
    "    fdtdApi.setnamed('port0', 'y', -(portSize/2 + 2*rad+gap+wg_width))\n",
    "    fdtdApi.setnamed('port0', 'x', lc+3*rad)\n",
    "    fdtdApi.setnamed('port1', 'y', -(portSize/2 + 2*rad+gap+wg_width))\n",
    "    fdtdApi.setnamed('port1', 'x', rad)\n",
    "    \n",
    "    fdtdApi.setnamed('port2', 'y', portSize/2)\n",
    "    fdtdApi.setnamed('port2', 'x', lc+3*rad)\n",
    "    fdtdApi.setnamed('port3', 'y', portSize/2)\n",
    "    fdtdApi.setnamed('port3', 'x', rad)\n",
    "    \n",
    "    fdtdApi.addrect()\n",
    "    fdtdApi.set('name','wav01')\n",
    "    fdtdApi.set('material',material_core)\n",
    "    fdtdApi.set('x', 2*rad + lc/2)\n",
    "    fdtdApi.set('x span',lc)\n",
    "    fdtdApi.set('y', -rad)\n",
    "    fdtdApi.set('y span',wg_width)\n",
    "    fdtdApi.set('z',0)\n",
    "    fdtdApi.set('z span',wg_height)\n",
    "    \n",
    "    fdtdApi.addrect()\n",
    "    fdtdApi.set('name','wav02')\n",
    "    fdtdApi.set('material',material_core)\n",
    "    fdtdApi.set('x', 2*rad + lc/2)\n",
    "    fdtdApi.set('x span',lc)\n",
    "    fdtdApi.set('y', -rad-gap-wg_width)\n",
    "    fdtdApi.set('y span',wg_width)\n",
    "    fdtdApi.set('z',0)\n",
    "    fdtdApi.set('z span',wg_height)\n",
    "    return _"
   ],
   "id": "11dfc1837d74cd9c",
   "outputs": [],
   "execution_count": 40
  },
  {
   "metadata": {},
   "cell_type": "markdown",
   "source": "## Adição do solver FDTD, porta e monitor",
   "id": "a8fe22dbb1674881"
  },
  {
   "metadata": {
    "ExecuteTime": {
     "end_time": "2025-06-07T00:51:05.881020Z",
     "start_time": "2025-06-07T00:51:05.877726Z"
    }
   },
   "cell_type": "code",
   "source": [
    "# solver\n",
    "def SolverPorts(simulation_time):\n",
    "    fdtdApi.addfdtd()\n",
    "    fdtdApi.set('x', fdtdApi.getnamed('wav01','x'))\n",
    "    fdtdApi.set('x span', fdtdApi.getnamed('wav01','x span') + 12*um)\n",
    "    fdtdApi.set('y', y_FDTD)\n",
    "    fdtdApi.set('y span', y_span_FDTD)\n",
    "    fdtdApi.set('z', 0)\n",
    "    fdtdApi.set('z span', z_span_FDTD)\n",
    "    fdtdApi.set('background material', backGroundMaterial)\n",
    "    fdtdApi.set('mesh accuracy', mesh_accuracy)\n",
    "    fdtdApi.set('simulation time', simulation_time)\n",
    "    fdtdApi.set('z min bc', z_min_bc)\n",
    "    \n",
    "    # portas\n",
    "    for i in range(4):\n",
    "        fdtdApi.addport()\n",
    "        fdtdApi.set('name',f'port {i+1}')\n",
    "        fdtdApi.set('x',fdtdApi.getnamed(f'port{i}','x'))\n",
    "        fdtdApi.set('x span',x_span_port)\n",
    "        fdtdApi.set('y',y_port[i])\n",
    "        fdtdApi.set('z',0)\n",
    "        fdtdApi.set('z span',z_span_port)\n",
    "        fdtdApi.set('mode selection',mode_selection)\n",
    "        fdtdApi.set('injection axis',injection_axis)\n",
    "    for i in range(4):\n",
    "        fdtdApi.select(f'FDTD::ports::port {i+1}')\n",
    "        fdtdApi.set('x span', 4*1e-6)\n",
    "    fdtdApi.setnamed('FDTD::ports::port 3','direction','Backward')\n",
    "    fdtdApi.setnamed('FDTD::ports::port 4','direction','Backward')\n",
    "    \n",
    "    # configuração da banda de simulação\n",
    "    fdtdApi.setnamed('FDTD','global source wavelength start',wl_start)\n",
    "    fdtdApi.setnamed('FDTD','global source wavelength stop',wl_stop)\n",
    "    fdtdApi.setnamed('FDTD::ports','monitor frequency points',nbmFrqPnts)\n",
    "    \n",
    "    return _"
   ],
   "id": "24e39fd1e7b2cfa4",
   "outputs": [],
   "execution_count": 41
  },
  {
   "metadata": {},
   "cell_type": "markdown",
   "source": "## S parameters Sweep",
   "id": "cbc58811679d8e39"
  },
  {
   "metadata": {
    "ExecuteTime": {
     "end_time": "2025-06-07T00:51:06.450297Z",
     "start_time": "2025-06-07T00:51:06.446769Z"
    }
   },
   "cell_type": "code",
   "source": [
    "def runSweep():\n",
    "    \n",
    "    fdtdApi.addsweep(3)\n",
    "    fdtdApi.setsweep('s-parameter sweep', 'name', 'sweep')\n",
    "    fdtdApi.setsweep('sweep', 'Excite all ports', 1)\n",
    "    fdtdApi.setsweep('sweep', 'Calculate group delay', 1)\n",
    "    fdtdApi.setsweep('sweep', 'Custom define', 1)\n",
    "    \n",
    "    fdtdApi.setsweep('sweep', 'define custom s-parameter ports', 1)\n",
    "    fdtdApi.setsweep('sweep', 'Include group delay', 1)\n",
    "    \n",
    "    fdtdApi.setsweep('sweep', 'Custom define', 1)\n",
    "    #ports locations \n",
    "    modestruct = {\"label\": \"mode 1\", \"id\" : 1}\n",
    "    rowstruct = {\"mode 1\": modestruct, \"location\": \"BOTTOM\"}\n",
    "    rowstruct1 = {\"mode 1\": modestruct, \"location\": \"TOP\"}\n",
    "    portstruct0 = {\"port 1\": rowstruct}\n",
    "    portstruct = {\"port 2\": rowstruct} \n",
    "    portstruct2 = {\"port 3\": rowstruct1}\n",
    "    portstruct3 = {\"port 4\": rowstruct1}\n",
    "    fdtdApi.setsweep(\"sweep\", \"export setup\", portstruct0)\n",
    "    fdtdApi.setsweep(\"sweep\", \"export setup\", portstruct)\n",
    "    fdtdApi.setsweep(\"sweep\", \"export setup\", portstruct2)\n",
    "    fdtdApi.setsweep(\"sweep\", \"export setup\", portstruct3)\n",
    "    \n",
    "    fdtdApi.setsweep(\"S sweep\", \"auto symmetry\", True)\n",
    "    fdtdApi.runsweep('sweep')\n",
    "    return _"
   ],
   "id": "86dbed424d635aea",
   "outputs": [],
   "execution_count": 42
  },
  {
   "metadata": {
    "ExecuteTime": {
     "end_time": "2025-06-07T00:51:06.754384Z",
     "start_time": "2025-06-07T00:51:06.751394Z"
    }
   },
   "cell_type": "code",
   "source": [
    "for i in range(0,4,1):\n",
    "    print(Lc[i]/um, i)\n",
    "print('---')\n",
    "for i in range(4,9,1):\n",
    "    print(Lc[i]/um, i)\n",
    "print('---')\n",
    "for i in range(9,13,1):\n",
    "    print(Lc[i]/um, i)\n",
    "print('---')\n",
    "for i in range(13,16,1):\n",
    "    print(Lc[i]/um, i) "
   ],
   "id": "68dbe00709591899",
   "outputs": [
    {
     "name": "stdout",
     "output_type": "stream",
     "text": [
      "0.0 0\n",
      "3.0 1\n",
      "6.0 2\n",
      "8.999999999999998 3\n",
      "---\n",
      "12.0 4\n",
      "15.0 5\n",
      "17.999999999999996 6\n",
      "21.0 7\n",
      "24.0 8\n",
      "---\n",
      "26.999999999999996 9\n",
      "30.0 10\n",
      "33.0 11\n",
      "35.99999999999999 12\n",
      "---\n",
      "38.99999999999999 13\n",
      "42.0 14\n",
      "45.0 15\n"
     ]
    }
   ],
   "execution_count": 43
  },
  {
   "metadata": {},
   "cell_type": "markdown",
   "source": "## Dispositivos Lc = 0 ~ 9 $\\mu$m",
   "id": "d4d4592848069a38"
  },
  {
   "metadata": {
    "ExecuteTime": {
     "end_time": "2025-06-07T01:19:23.047904Z",
     "start_time": "2025-06-07T00:51:07.404884Z"
    }
   },
   "cell_type": "code",
   "source": [
    "for i in range(0,4,1):\n",
    "    fdtdApi.switchtolayout()\n",
    "    fdtdApi.deleteall()\n",
    "    buildDevice(Lc[i])\n",
    "    fdtdApi.select('FDTD')\n",
    "    fdtdApi.delete()\n",
    "    simulation_time = (np.pi*rad+Lc[i])*7/c+200e-15\n",
    "    SolverPorts(simulation_time)\n",
    "    # salvando arquivo\n",
    "    filename ='dc_FDTD_%d_nm_%03d_um'%(gap*nm,Lc[i]*1e7)\n",
    "    fdtdApi.save(filename)\n",
    "    fdtdApi.select('FDTD')\n",
    "    fdtdApi.set('express mode',1)\n",
    "    runSweep()\n",
    "    fdtdApi.exportsweep('sweep',f'S_param_{round(Lc[i]/um)}um.dat')"
   ],
   "id": "fbfa27b206598407",
   "outputs": [],
   "execution_count": 44
  },
  {
   "metadata": {},
   "cell_type": "markdown",
   "source": "## Dispositivos Lc = 12 ~ 24 $\\mu$m ",
   "id": "22d468b2ec6df450"
  },
  {
   "metadata": {
    "ExecuteTime": {
     "end_time": "2025-06-07T02:49:30.403446Z",
     "start_time": "2025-06-07T01:19:23.050279Z"
    }
   },
   "cell_type": "code",
   "source": [
    "for i in range(4,9,1):\n",
    "    fdtdApi.switchtolayout()\n",
    "    fdtdApi.deleteall()\n",
    "    buildDevice(Lc[i])\n",
    "    fdtdApi.select('FDTD')\n",
    "    fdtdApi.delete()\n",
    "    simulation_time = (np.pi*rad+Lc[i])*7/c+200e-15\n",
    "    SolverPorts(simulation_time)\n",
    "    # salvando arquivo\n",
    "    filename ='dc_FDTD_%d_nm_%03d_um'%(gap*nm,Lc[i]*1e7)\n",
    "    fdtdApi.save(filename)\n",
    "    fdtdApi.select('FDTD')\n",
    "    fdtdApi.set('express mode',1)\n",
    "    runSweep()\n",
    "    fdtdApi.exportsweep('sweep',f'S_param_{round(Lc[i]/um)}um.dat')"
   ],
   "id": "219b01bec350b7c6",
   "outputs": [],
   "execution_count": 45
  },
  {
   "metadata": {},
   "cell_type": "markdown",
   "source": "## Dispositivos Lc = 27 ~ 36 $\\mu$m",
   "id": "84b85f94428acb9"
  },
  {
   "metadata": {
    "ExecuteTime": {
     "end_time": "2025-06-07T05:15:47.847207Z",
     "start_time": "2025-06-07T02:49:30.422435Z"
    }
   },
   "cell_type": "code",
   "source": [
    "for i in range(9,13,1):\n",
    "    fdtdApi.switchtolayout()\n",
    "    fdtdApi.deleteall()\n",
    "    buildDevice(Lc[i])\n",
    "    fdtdApi.select('FDTD')\n",
    "    fdtdApi.delete()\n",
    "    simulation_time = (np.pi*rad+Lc[i])*7/c+200e-15\n",
    "    SolverPorts(simulation_time)\n",
    "    # salvando arquivo\n",
    "    filename ='dc_FDTD_%d_nm_%03d_um'%(gap*nm,Lc[i]*1e7)\n",
    "    fdtdApi.save(filename)\n",
    "    fdtdApi.select('FDTD')\n",
    "    fdtdApi.set('express mode',1)\n",
    "    runSweep()\n",
    "    fdtdApi.exportsweep('sweep',f'S_param_{round(Lc[i]/um)}um.dat')"
   ],
   "id": "bfae61ade4a98dd0",
   "outputs": [],
   "execution_count": 46
  },
  {
   "metadata": {},
   "cell_type": "markdown",
   "source": "## Dispositivos Lc = 39 ~ 45 $\\mu$m",
   "id": "45008009d0c771e9"
  },
  {
   "metadata": {
    "ExecuteTime": {
     "end_time": "2025-06-07T08:04:28.857985Z",
     "start_time": "2025-06-07T05:15:47.854542Z"
    }
   },
   "cell_type": "code",
   "source": [
    "for i in range(13,16,1):\n",
    "    fdtdApi.switchtolayout()\n",
    "    fdtdApi.deleteall()\n",
    "    buildDevice(Lc[i])\n",
    "    fdtdApi.select('FDTD')\n",
    "    fdtdApi.delete()\n",
    "    simulation_time = (np.pi*rad+Lc[i])*7/c+200e-15\n",
    "    SolverPorts(simulation_time)\n",
    "    # salvando arquivo\n",
    "    filename ='dc_FDTD_%d_nm_%03d_um'%(gap*nm,Lc[i]*1e7)\n",
    "    fdtdApi.save(filename)\n",
    "    fdtdApi.select('FDTD')\n",
    "    fdtdApi.set('express mode',1)\n",
    "    runSweep()\n",
    "    fdtdApi.exportsweep('sweep',f'S_param_{round(Lc[i]/um)}um.dat')"
   ],
   "id": "30021d684264a400",
   "outputs": [],
   "execution_count": 47
  },
  {
   "metadata": {
    "ExecuteTime": {
     "end_time": "2025-06-07T08:04:28.868025Z",
     "start_time": "2025-06-07T08:04:28.865722Z"
    }
   },
   "cell_type": "code",
   "source": [
    "'''\n",
    "f = gdsopen('meugds.gds');\n",
    "cellname = 'contour';\n",
    "\n",
    "gdsbegincell(f,cellname);\n",
    "for(i =1:length(contour{1}.polygons)){\n",
    "    a = contour{1}.polygons{i};\n",
    "    gdsaddpoly(f,1,a);  \n",
    "}\n",
    "gdsendcell(f);\n",
    "gdsclose(f);\n",
    "'''"
   ],
   "id": "b8eeb737008794e8",
   "outputs": [
    {
     "data": {
      "text/plain": [
       "\"\\nf = gdsopen('meugds.gds');\\ncellname = 'contour';\\n\\ngdsbegincell(f,cellname);\\nfor(i =1:length(contour{1}.polygons)){\\n    a = contour{1}.polygons{i};\\n    gdsaddpoly(f,1,a);  \\n}\\ngdsendcell(f);\\ngdsclose(f);\\n\""
      ]
     },
     "execution_count": 48,
     "metadata": {},
     "output_type": "execute_result"
    }
   ],
   "execution_count": 48
  }
 ],
 "metadata": {
  "kernelspec": {
   "display_name": "Python 3",
   "language": "python",
   "name": "python3"
  },
  "language_info": {
   "codemirror_mode": {
    "name": "ipython",
    "version": 2
   },
   "file_extension": ".py",
   "mimetype": "text/x-python",
   "name": "python",
   "nbconvert_exporter": "python",
   "pygments_lexer": "ipython2",
   "version": "2.7.6"
  }
 },
 "nbformat": 4,
 "nbformat_minor": 5
}
